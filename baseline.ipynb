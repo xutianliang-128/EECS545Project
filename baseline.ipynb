{
 "cells": [
  {
   "cell_type": "code",
   "execution_count": 1,
   "metadata": {
    "_cell_guid": "b1076dfc-b9ad-4769-8c92-a6c4dae69d19",
    "_uuid": "8f2839f25d086af736a60e9eeb907d3b93b6e0e5",
    "execution": {
     "iopub.execute_input": "2022-03-01T21:01:11.181279Z",
     "iopub.status.busy": "2022-03-01T21:01:11.180652Z",
     "iopub.status.idle": "2022-03-01T21:01:14.514441Z",
     "shell.execute_reply": "2022-03-01T21:01:14.513643Z",
     "shell.execute_reply.started": "2022-03-01T21:01:11.181205Z"
    }
   },
   "outputs": [],
   "source": [
    "# This Python 3 environment comes with many helpful analytics libraries installed\n",
    "# It is defined by the kaggle/python Docker image: https://github.com/kaggle/docker-python\n",
    "# For example, here's several helpful packages to load\n",
    "\n",
    "import numpy as np # linear algebra\n",
    "import pandas as pd # data processing, CSV file I/O (e.g. pd.read_csv)\n",
    "from transformers import BertTokenizer\n",
    "import torch\n",
    "from torch import nn\n",
    "from transformers import BertModel\n",
    "import numpy as np\n",
    "from torch.optim import Adam\n",
    "from tqdm import tqdm\n",
    "\n",
    "# Input data files are available in the read-only \"../input/\" directory\n",
    "# For example, running this (by clicking run or pressing Shift+Enter) will list all files under the input directory\n",
    "\n",
    "\n",
    "import os\n",
    "\n",
    "df = pd.read_csv(\"/kaggle/input/feedback-prize-2021/train.csv\")\n",
    "df\n",
    "\n",
    "# You can write up to 20GB to the current directory (/kaggle/working/) that gets preserved as output when you create a version using \"Save & Run All\" \n",
    "# You can also write temporary files to /kaggle/temp/, but they won't be saved outside of the current session"
   ]
  },
  {
   "cell_type": "code",
   "execution_count": 2,
   "metadata": {
    "execution": {
     "iopub.execute_input": "2022-03-01T21:01:30.470999Z",
     "iopub.status.busy": "2022-03-01T21:01:30.470575Z",
     "iopub.status.idle": "2022-03-01T21:01:30.477395Z",
     "shell.execute_reply": "2022-03-01T21:01:30.476756Z",
     "shell.execute_reply.started": "2022-03-01T21:01:30.470958Z"
    }
   },
   "outputs": [],
   "source": [
    "labels = {'Lead':0,\n",
    "          'Position':1,\n",
    "          'Claim':2,\n",
    "          'Concluding Statement':3,\n",
    "          'Evidence':4,\n",
    "          'Counterclaim':5,\n",
    "          'Rebuttal':6\n",
    "          }\n",
    "prev_label = {'Lead':0,\n",
    "          'Position':1,\n",
    "          'Claim':2,\n",
    "          'Concluding Statement':3,\n",
    "          'Evidence':4,\n",
    "          'Counterclaim':5,\n",
    "          'Rebuttal':6,\n",
    "          'Start':7\n",
    "          }"
   ]
  },
  {
   "cell_type": "code",
   "execution_count": 3,
   "metadata": {
    "execution": {
     "iopub.execute_input": "2022-03-01T21:01:33.010992Z",
     "iopub.status.busy": "2022-03-01T21:01:33.010306Z",
     "iopub.status.idle": "2022-03-01T21:01:39.461031Z",
     "shell.execute_reply": "2022-03-01T21:01:39.460305Z",
     "shell.execute_reply.started": "2022-03-01T21:01:33.010954Z"
    }
   },
   "outputs": [],
   "source": [
    "sequence = df['predictionstring']\n",
    "sequence = sequence.apply(lambda x: x.split())\n",
    "sequence = sequence.apply(lambda x: list(map(int, x)))\n",
    "sequence\n",
    "df_new = df\n",
    "start, end = [],[]\n",
    "for i in range(len(sequence)):\n",
    "    start.append(sequence[i][0])\n",
    "    end.append(sequence[i][-1])\n",
    "df_new['Start'] = start\n",
    "df_new['End'] = end\n",
    "\n",
    "prev = [7]\n",
    "\n",
    "for i in range(1, len(sequence)):\n",
    "    if df_new['End'][i-1] < df_new['Start'][i]:\n",
    "        prev.append(prev_label[df['discourse_type'][i-1]])\n",
    "    else:\n",
    "        prev.append(7)"
   ]
  },
  {
   "cell_type": "code",
   "execution_count": 4,
   "metadata": {
    "execution": {
     "iopub.execute_input": "2022-03-01T21:01:47.077533Z",
     "iopub.status.busy": "2022-03-01T21:01:47.076997Z",
     "iopub.status.idle": "2022-03-01T21:01:47.147903Z",
     "shell.execute_reply": "2022-03-01T21:01:47.147251Z",
     "shell.execute_reply.started": "2022-03-01T21:01:47.077496Z"
    }
   },
   "outputs": [],
   "source": [
    "df_new['one_hot'] = prev\n",
    "df_new"
   ]
  },
  {
   "cell_type": "code",
   "execution_count": 5,
   "metadata": {
    "execution": {
     "iopub.execute_input": "2022-03-01T21:01:53.620454Z",
     "iopub.status.busy": "2022-03-01T21:01:53.620188Z",
     "iopub.status.idle": "2022-03-01T21:02:17.786016Z",
     "shell.execute_reply": "2022-03-01T21:02:17.785273Z",
     "shell.execute_reply.started": "2022-03-01T21:01:53.620425Z"
    }
   },
   "outputs": [],
   "source": [
    "from gensim.utils import simple_preprocess\n",
    "# Tokenize the text column to get the new column 'tokenized_text'\n",
    "df_new['tokenized_text'] = [simple_preprocess(line, deacc=True) for line in df_new['discourse_text']] \n",
    "print(df_new['tokenized_text'].head(10))"
   ]
  },
  {
   "cell_type": "code",
   "execution_count": 6,
   "metadata": {
    "execution": {
     "iopub.execute_input": "2022-03-01T21:02:45.500258Z",
     "iopub.status.busy": "2022-03-01T21:02:45.499577Z",
     "iopub.status.idle": "2022-03-01T21:02:46.074062Z",
     "shell.execute_reply": "2022-03-01T21:02:46.073313Z",
     "shell.execute_reply.started": "2022-03-01T21:02:45.500222Z"
    }
   },
   "outputs": [],
   "source": [
    "from sklearn.model_selection import train_test_split\n",
    "train, test = train_test_split(df_new, test_size = 0.2, stratify = df_new['one_hot'])"
   ]
  },
  {
   "cell_type": "code",
   "execution_count": 7,
   "metadata": {
    "execution": {
     "iopub.execute_input": "2022-03-01T21:03:02.365355Z",
     "iopub.status.busy": "2022-03-01T21:03:02.365094Z",
     "iopub.status.idle": "2022-03-01T21:03:02.370603Z",
     "shell.execute_reply": "2022-03-01T21:03:02.369894Z",
     "shell.execute_reply.started": "2022-03-01T21:03:02.365319Z"
    }
   },
   "outputs": [],
   "source": [
    "x_train = train['tokenized_text']\n",
    "y_train = train['discourse_type']\n",
    "x_test = test['tokenized_text']\n",
    "y_test = test['discourse_type']"
   ]
  },
  {
   "cell_type": "code",
   "execution_count": 8,
   "metadata": {
    "execution": {
     "iopub.execute_input": "2022-03-01T21:03:06.159043Z",
     "iopub.status.busy": "2022-03-01T21:03:06.158533Z",
     "iopub.status.idle": "2022-03-01T21:03:06.162636Z",
     "shell.execute_reply": "2022-03-01T21:03:06.161950Z",
     "shell.execute_reply.started": "2022-03-01T21:03:06.159006Z"
    }
   },
   "outputs": [],
   "source": [
    "from gensim.models import Word2Vec"
   ]
  },
  {
   "cell_type": "code",
   "execution_count": 9,
   "metadata": {
    "execution": {
     "iopub.execute_input": "2022-03-01T21:03:29.778523Z",
     "iopub.status.busy": "2022-03-01T21:03:29.778273Z",
     "iopub.status.idle": "2022-03-01T21:05:58.427144Z",
     "shell.execute_reply": "2022-03-01T21:05:58.426433Z",
     "shell.execute_reply.started": "2022-03-01T21:03:29.778494Z"
    }
   },
   "outputs": [],
   "source": [
    "dim = 200\n",
    "w2v_model = Word2Vec(vector_size = dim)\n",
    "w2v_model.build_vocab(x_train)\n",
    "w2v_model.train(x_train, total_examples = w2v_model.corpus_count, epochs = 20)"
   ]
  },
  {
   "cell_type": "code",
   "execution_count": 10,
   "metadata": {
    "execution": {
     "iopub.execute_input": "2022-03-01T21:06:17.052524Z",
     "iopub.status.busy": "2022-03-01T21:06:17.051833Z",
     "iopub.status.idle": "2022-03-01T21:06:17.058179Z",
     "shell.execute_reply": "2022-03-01T21:06:17.057469Z",
     "shell.execute_reply.started": "2022-03-01T21:06:17.052486Z"
    }
   },
   "outputs": [],
   "source": [
    "#Build word vector for training set by using the average value of all word vectors in the tweet, then scale\n",
    "def wordvector(text, size):\n",
    "    vec = np.zeros(size).reshape((1, size))\n",
    "    count = 0.\n",
    "    for word in text:\n",
    "        try:\n",
    "            vec += w2v_model.wv[word].reshape((1, size))\n",
    "            count += 1.\n",
    "        except KeyError:\n",
    "            continue\n",
    "    if count != 0:\n",
    "        vec /= count\n",
    "    return vec"
   ]
  },
  {
   "cell_type": "code",
   "execution_count": 11,
   "metadata": {
    "execution": {
     "iopub.execute_input": "2022-03-01T21:06:21.739667Z",
     "iopub.status.busy": "2022-03-01T21:06:21.739075Z",
     "iopub.status.idle": "2022-03-01T21:06:46.390249Z",
     "shell.execute_reply": "2022-03-01T21:06:46.389524Z",
     "shell.execute_reply.started": "2022-03-01T21:06:21.739626Z"
    }
   },
   "outputs": [],
   "source": [
    "from sklearn.preprocessing import scale\n",
    "train_vec = np.concatenate([wordvector(text, dim) for text in x_train])\n",
    "train_vec = scale(train_vec)"
   ]
  },
  {
   "cell_type": "code",
   "execution_count": 12,
   "metadata": {
    "execution": {
     "iopub.execute_input": "2022-03-01T21:11:17.263682Z",
     "iopub.status.busy": "2022-03-01T21:11:17.263406Z",
     "iopub.status.idle": "2022-03-01T21:11:53.777089Z",
     "shell.execute_reply": "2022-03-01T21:11:53.776439Z",
     "shell.execute_reply.started": "2022-03-01T21:11:17.263653Z"
    }
   },
   "outputs": [],
   "source": [
    "w2v_model.train(x_test, total_examples =  len(x_test), epochs = w2v_model.epochs)"
   ]
  },
  {
   "cell_type": "code",
   "execution_count": 13,
   "metadata": {
    "execution": {
     "iopub.execute_input": "2022-03-01T21:12:39.484396Z",
     "iopub.status.busy": "2022-03-01T21:12:39.484138Z",
     "iopub.status.idle": "2022-03-01T21:12:46.068147Z",
     "shell.execute_reply": "2022-03-01T21:12:46.067412Z",
     "shell.execute_reply.started": "2022-03-01T21:12:39.484367Z"
    }
   },
   "outputs": [],
   "source": [
    "test_vec = np.concatenate([wordvector(text, dim) for text in x_test])\n",
    "test_vec = scale(test_vec)"
   ]
  },
  {
   "cell_type": "code",
   "execution_count": 18,
   "metadata": {
    "execution": {
     "iopub.execute_input": "2022-03-01T21:34:36.502853Z",
     "iopub.status.busy": "2022-03-01T21:34:36.502224Z",
     "iopub.status.idle": "2022-03-01T21:34:36.569188Z",
     "shell.execute_reply": "2022-03-01T21:34:36.568554Z",
     "shell.execute_reply.started": "2022-03-01T21:34:36.502806Z"
    }
   },
   "outputs": [],
   "source": [
    "from sklearn import model_selection, svm\n",
    "from sklearn import metrics"
   ]
  },
  {
   "cell_type": "code",
   "execution_count": 18,
   "metadata": {
    "execution": {
     "iopub.execute_input": "2022-02-28T14:56:33.334763Z",
     "iopub.status.busy": "2022-02-28T14:56:33.334515Z",
     "iopub.status.idle": "2022-02-28T18:43:54.561821Z",
     "shell.execute_reply": "2022-02-28T18:43:54.561078Z",
     "shell.execute_reply.started": "2022-02-28T14:56:33.334734Z"
    }
   },
   "outputs": [],
   "source": [
    "# word2vec svm\n",
    "svm_clf = svm.SVC(kernel='rbf',verbose=True)\n",
    "svm_clf.fit(train_vec, y_train)"
   ]
  },
  {
   "cell_type": "code",
   "execution_count": 19,
   "metadata": {
    "execution": {
     "iopub.execute_input": "2022-02-28T18:43:54.563805Z",
     "iopub.status.busy": "2022-02-28T18:43:54.563467Z",
     "iopub.status.idle": "2022-02-28T18:59:14.357615Z",
     "shell.execute_reply": "2022-02-28T18:59:14.356814Z",
     "shell.execute_reply.started": "2022-02-28T18:43:54.563767Z"
    }
   },
   "outputs": [],
   "source": [
    "svm_pred = svm_clf.predict(test_vec)"
   ]
  },
  {
   "cell_type": "code",
   "execution_count": null,
   "metadata": {},
   "outputs": [],
   "source": [
    "metrics.accuracy_score(svm_pred, y_test)"
   ]
  },
  {
   "cell_type": "code",
   "execution_count": 15,
   "metadata": {
    "execution": {
     "iopub.execute_input": "2022-02-28T06:48:47.430887Z",
     "iopub.status.busy": "2022-02-28T06:48:47.430166Z",
     "iopub.status.idle": "2022-02-28T06:53:31.604736Z",
     "shell.execute_reply": "2022-02-28T06:53:31.603661Z",
     "shell.execute_reply.started": "2022-02-28T06:48:47.430828Z"
    }
   },
   "outputs": [],
   "source": [
    "# word2vec random forest\n",
    "from sklearn.ensemble import RandomForestClassifier as RFC\n",
    "rfc_clf = RFC(n_estimators = 100, oob_score = True)\n",
    "rfc_clf.fit(train_vec, y_train)\n",
    "rfc_pred = rfc_clf.predict(test_vec)\n",
    "rfc_accuracy = metrics.accuracy_score(rfc_pred, y_test)"
   ]
  },
  {
   "cell_type": "code",
   "execution_count": 20,
   "metadata": {
    "execution": {
     "iopub.execute_input": "2022-02-28T06:54:31.737678Z",
     "iopub.status.busy": "2022-02-28T06:54:31.737434Z",
     "iopub.status.idle": "2022-02-28T06:54:31.746571Z",
     "shell.execute_reply": "2022-02-28T06:54:31.745913Z",
     "shell.execute_reply.started": "2022-02-28T06:54:31.737652Z"
    }
   },
   "outputs": [],
   "source": [
    "metrics.accuracy_score(rfc_pred, y_test)"
   ]
  },
  {
   "cell_type": "code",
   "execution_count": 23,
   "metadata": {
    "execution": {
     "iopub.execute_input": "2022-03-01T21:39:54.225544Z",
     "iopub.status.busy": "2022-03-01T21:39:54.224949Z",
     "iopub.status.idle": "2022-03-01T21:39:54.411623Z",
     "shell.execute_reply": "2022-03-01T21:39:54.410822Z",
     "shell.execute_reply.started": "2022-03-01T21:39:54.225505Z"
    }
   },
   "outputs": [],
   "source": [
    "from sklearn.preprocessing import MinMaxScaler\n",
    "scaler1 = MinMaxScaler(copy = False)\n",
    "scaler1.fit(train_vec)\n",
    "scaler2 = MinMaxScaler(copy = False)\n",
    "scaler2.fit(test_vec)\n",
    "train_01 = scaler1.transform(train_vec)\n",
    "test_01 = scaler2.transform(test_vec)"
   ]
  },
  {
   "cell_type": "code",
   "execution_count": 25,
   "metadata": {
    "execution": {
     "iopub.execute_input": "2022-03-01T21:41:22.608956Z",
     "iopub.status.busy": "2022-03-01T21:41:22.608680Z",
     "iopub.status.idle": "2022-03-01T21:41:22.788670Z",
     "shell.execute_reply": "2022-03-01T21:41:22.787776Z",
     "shell.execute_reply.started": "2022-03-01T21:41:22.608929Z"
    }
   },
   "outputs": [],
   "source": [
    "# word2vec naivebayes\n",
    "from sklearn.naive_bayes import MultinomialNB\n",
    "mnb = MultinomialNB()\n",
    "mnb.fit(train_01,y_train)\n",
    "mnb_pred = mnb.predict(test_01)\n",
    "metrics.accuracy_score(mnb_pred, y_test)"
   ]
  },
  {
   "cell_type": "code",
   "execution_count": null,
   "metadata": {},
   "outputs": [],
   "source": [
    "# dictionary for word count\n",
    "from sklearn.feature_extraction.text import CountVectorizer\n",
    "from nltk.tokenize import RegexpTokenizer\n",
    "token = RegexpTokenizer(r'[a-zA-Z0-9]+')"
   ]
  },
  {
   "cell_type": "code",
   "execution_count": null,
   "metadata": {},
   "outputs": [],
   "source": [
    "cv = CountVectorizer(stop_words = 'english', ngram_range = (1,1), tokenizer = token.tokenize)"
   ]
  },
  {
   "cell_type": "code",
   "execution_count": null,
   "metadata": {},
   "outputs": [],
   "source": [
    "text_count = cv.fit_transform(df_new['discourse_text'])"
   ]
  },
  {
   "cell_type": "code",
   "execution_count": null,
   "metadata": {},
   "outputs": [],
   "source": [
    "from sklearn.model_selection import train_test_split\n",
    "x_train2, x_test2, y_train2, y_test2 = train_test_split(text_count, df_new['one_hot'], test_size = 0.2)"
   ]
  },
  {
   "cell_type": "code",
   "execution_count": null,
   "metadata": {},
   "outputs": [],
   "source": [
    "# wordcount mnb\n",
    "mnb2 = MultinomialNB()\n",
    "mnb2.fit(x_train2,y_train2)\n",
    "mnb2_pred = mnb2.predict(x_test2)"
   ]
  },
  {
   "cell_type": "code",
   "execution_count": null,
   "metadata": {},
   "outputs": [],
   "source": [
    "metrics.accuracy_score(mnb2_pred, y_test2)"
   ]
  },
  {
   "cell_type": "code",
   "execution_count": null,
   "metadata": {},
   "outputs": [],
   "source": [
    "# wordcount rf\n",
    "rfc_clf2 = RFC(n_estimators = 100, oob_score = True)\n",
    "rfc_clf2.fit(x_train2, y_train2)\n",
    "rfc_pred2 = rfc_clf2.predict(x_test2)"
   ]
  },
  {
   "cell_type": "code",
   "execution_count": null,
   "metadata": {},
   "outputs": [],
   "source": [
    "metrics.accuracy_score(rfc_pred2, y_test2)"
   ]
  },
  {
   "cell_type": "code",
   "execution_count": null,
   "metadata": {},
   "outputs": [],
   "source": [
    "# wordcount svm\n",
    "svm_clf2 = svm.SVC(verbose=True)\n",
    "svm_clf2.fit(x_train2, y_train2)\n",
    "svm_pred2 = svm_clf2.predict(x_test2)"
   ]
  },
  {
   "cell_type": "code",
   "execution_count": null,
   "metadata": {},
   "outputs": [],
   "source": [
    "metrics.accuracy_score(svm_pred2, y_test2)"
   ]
  }
 ],
 "metadata": {
  "kernelspec": {
   "display_name": "Python 3",
   "language": "python",
   "name": "python3"
  },
  "language_info": {
   "codemirror_mode": {
    "name": "ipython",
    "version": 3
   },
   "file_extension": ".py",
   "mimetype": "text/x-python",
   "name": "python",
   "nbconvert_exporter": "python",
   "pygments_lexer": "ipython3",
   "version": "3.7.4"
  }
 },
 "nbformat": 4,
 "nbformat_minor": 4
}
